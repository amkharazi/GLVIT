{
 "cells": [
  {
   "cell_type": "code",
   "execution_count": 1,
   "id": "317474b6",
   "metadata": {},
   "outputs": [],
   "source": [
    "import torch\n",
    "import torch.nn as nn\n",
    "import torch.nn.functional as F\n",
    "import torch.optim as optim\n",
    "from torchvision import datasets, transforms\n",
    "from torch.utils.data import DataLoader, Dataset\n",
    "from einops import rearrange\n",
    "import numpy as np\n",
    "import matplotlib.pyplot as plt\n",
    "\n",
    "\n",
    "\n",
    "def imshow(img_tensor, title):\n",
    "    img_tensor = img_tensor[0]\n",
    "    img = img_tensor.permute(1, 2, 0).detach().numpy()\n",
    "    plt.imshow((img * 0.5) + 0.5)\n",
    "    plt.title(title)\n",
    "    plt.axis('off')\n",
    "\n",
    "\n",
    "\n",
    "class PatchEmbedding(nn.Module):\n",
    "    def __init__(self, img_size, patch_size, in_channels, embed_dim, second_path_size = None):\n",
    "        super(PatchEmbedding, self).__init__()\n",
    "        self.patch_size = patch_size\n",
    "        self.embed_dim = embed_dim\n",
    "\n",
    "        if second_path_size is None:\n",
    "           self.second_path_size=patch_size//2\n",
    "        else:\n",
    "            self.second_path_size = second_path_size\n",
    "\n",
    "        self.projection1 = nn.Conv2d(in_channels, embed_dim, kernel_size=patch_size, stride=patch_size)\n",
    "\n",
    "        self.conv = nn.Conv2d(in_channels, in_channels, kernel_size=self.second_path_size, stride=self.second_path_size)\n",
    "        self.projection2 = nn.Conv2d(in_channels, embed_dim, kernel_size=self.second_path_size, stride=self.second_path_size)\n",
    "        # self.conv = nn.Conv2d(in_channels, in_channels, kernel_size=8, stride=8)\n",
    "        # self.projection2 = nn.Conv2d(in_channels, embed_dim, kernel_size=2, stride=2)\n",
    "\n",
    "    def forward(self, x):\n",
    "        plt.figure(figsize=(15, 6))\n",
    "        imshow(x, \"ship-input\")\n",
    "        plt.tight_layout()\n",
    "        plt.show()\n",
    "\n",
    "        x1 = self.projection1(x)  # Shape: (B, embed_dim, H/patch_size, W/patch_size)\n",
    "\n",
    "        # plt.figure(figsize=(15, 6))\n",
    "        # imshow(x1, \"ship-after first projection\")\n",
    "        # plt.tight_layout()\n",
    "        # plt.show()\n",
    "\n",
    "        x1 = rearrange(x1, \"b c h w -> b (h w) c\")  # Shape: (B, num_patches, embed_dim)\n",
    "        # print(f'hereX1 {x1.shape}')\n",
    "\n",
    "\n",
    "        x2 = self.conv(x)  # Downsample input\n",
    "        plt.figure(figsize=(15, 6))\n",
    "        imshow(x2, \"ship-after conv\")\n",
    "        plt.tight_layout()\n",
    "        plt.show()\n",
    "        x2 = self.projection2(x2)  # Shape: (B, embed_dim, H/(patch_size/2), W/(patch_size/2))\n",
    "        # plt.figure(figsize=(15, 6))\n",
    "        # imshow(x1, \"ship-after second projection\")\n",
    "        # plt.tight_layout()\n",
    "        # plt.show()\n",
    "        x2 = rearrange(x2, \"b c h w -> b (h w) c\")  # Shape: (B, num_patches, embed_dim)\n",
    "        # print(f'hereX2 {x2.shape}')\n",
    "\n",
    "        x = torch.cat((x1, x2), dim=1)  # Shape: (B, 2*num_patches, embed_dim)\n",
    "        # print(f'hereX3 {x.shape}')\n",
    "        return x\n",
    "\n",
    "\n",
    "class MultiHeadAttention(nn.Module):\n",
    "    def __init__(self, dim, num_heads, print_w=False):\n",
    "        super(MultiHeadAttention, self).__init__()\n",
    "        self.num_heads = num_heads\n",
    "        self.head_dim = dim // num_heads\n",
    "        self.scale = self.head_dim ** -0.5\n",
    "\n",
    "        self.q_proj1 = nn.Linear(dim, dim)\n",
    "        self.q_proj2 = nn.Linear(dim, dim)\n",
    "\n",
    "        self.k_proj1 = nn.Linear(dim, dim)\n",
    "        self.k_proj2 = nn.Linear(dim, dim)\n",
    "\n",
    "        self.fc_out = nn.Linear(dim, dim)\n",
    "\n",
    "        self.weights = nn.Parameter(torch.randn(4))\n",
    "\n",
    "        self.v_proj1 = nn.Linear(dim, dim)\n",
    "        self.v_proj2 = nn.Linear(dim, dim)\n",
    "\n",
    "        self.print_w=print_w\n",
    "\n",
    "    def forward(self, x):\n",
    "        B, M, C = x.shape\n",
    "        N= (M-2)//2\n",
    "\n",
    "        q1 = self.q_proj1(x[:, :N + 1])\n",
    "        q1 = rearrange(q1, \"b n (h d) -> b h n d\", h=self.num_heads, d=self.head_dim)\n",
    "        q2 = self.q_proj2(x[:, N + 1:])\n",
    "        q2 = rearrange(q2, \"b n (h d) -> b h n d\", h=self.num_heads, d=self.head_dim)\n",
    "\n",
    "        k1 = self.k_proj1(x[:, :N + 1])\n",
    "        k1 = rearrange(k1, \"b n (h d) -> b h n d\", h=self.num_heads, d=self.head_dim)\n",
    "        k2 = self.k_proj2(x[:, N + 1:])\n",
    "        k2 = rearrange(k2, \"b n (h d) -> b h n d\", h=self.num_heads, d=self.head_dim)\n",
    "\n",
    "        q = torch.cat((q1, q2), dim=2)\n",
    "        k = torch.cat((k1, k2), dim=2)\n",
    "\n",
    "        # print(N)\n",
    "        # print(M)\n",
    "\n",
    "        # print(x[:,:N +1].shape)\n",
    "        # print(x[:,N +1:].shape)\n",
    "\n",
    "        v1 = self.v_proj1(x[:, :N + 1])\n",
    "        # print(v1.shape)\n",
    "        v1 = rearrange(v1, \"b n (h d) -> b h n d\", h=self.num_heads, d=self.head_dim)\n",
    "\n",
    "        v2 = self.v_proj2(x[:, N + 1:])\n",
    "        # print(v2.shape)\n",
    "        v2 = rearrange(v2, \"b n (h d) -> b h n d\", h=self.num_heads, d=self.head_dim)\n",
    "\n",
    "\n",
    "        attn = torch.einsum(\"bhqd, bhkd -> bhqk\", q, k) * self.scale  # Shape: (B, h, 2N, 2N)\n",
    "\n",
    "        # N = (attn.shape[-1] - 2) // 2\n",
    "        block1 = attn[:, :, :N + 1, :N + 1]\n",
    "        block2 = attn[:, :, :N + 1, N + 1:]\n",
    "        block3 = attn[:, :, N + 1:, :N + 1]\n",
    "        block4 = attn[:, :, N + 1:, N + 1:]\n",
    "\n",
    "        block1 = block1.softmax(dim=-1)\n",
    "        block2 = block2.softmax(dim=-1)\n",
    "        block3 = block3.softmax(dim=-1)\n",
    "        block4 = block4.softmax(dim=-1)\n",
    "\n",
    "        w = F.gumbel_softmax(self.weights, tau=1.0, hard=True, dim=0)\n",
    "\n",
    "        if self.print_w:\n",
    "            # print(w)\n",
    "            print(torch.argmax(self.weights)+1)            \n",
    "\n",
    "        attn = w[0] * block1 + w[1] * block2 + w[2] * block3 + w[3] * block4\n",
    "\n",
    "        # print(attn.shape)\n",
    "        # print(v1.shape, v2.shape)\n",
    "        out1 = torch.einsum(\"bhqk, bhkd -> bhqd\", attn, v1)  # Shape: (B, h, N, d)\n",
    "        out2 = torch.einsum(\"bhqk, bhkd -> bhqd\", attn, v2)  # Shape: (B, h, N, d)\n",
    "        out = torch.cat((out1, out2), dim=2)  # Shape: (B, h, 2N, d)\n",
    "        out = rearrange(out, \"b h n d -> b n (h d)\")  # Shape: (B, 2N, C)\n",
    "\n",
    "        return self.fc_out(out)\n",
    "\n",
    "class MLP(nn.Module):\n",
    "    def __init__(self, dim, hidden_dim, dropout):\n",
    "        super(MLP, self).__init__()\n",
    "        self.fc1 = nn.Linear(dim, hidden_dim)\n",
    "        self.fc2 = nn.Linear(hidden_dim, dim)\n",
    "        self.dropout = nn.Dropout(dropout)\n",
    "        self.act = nn.GELU()\n",
    "\n",
    "    def forward(self, x):\n",
    "        x = self.fc1(x)\n",
    "        x = self.act(x)\n",
    "        x = self.dropout(x)\n",
    "        x = self.fc2(x)\n",
    "        x = self.dropout(x)\n",
    "        return x\n",
    "\n",
    "class TransformerBlock(nn.Module):\n",
    "    def __init__(self, dim, num_heads, mlp_dim, dropout, print_w = False):\n",
    "        super(TransformerBlock, self).__init__()\n",
    "        self.norm1 = nn.LayerNorm(dim)\n",
    "        self.norm2 = nn.LayerNorm(dim)\n",
    "        self.attn = MultiHeadAttention(dim, num_heads, print_w=print_w)\n",
    "        self.mlp = MLP(dim, mlp_dim, dropout)\n",
    "\n",
    "    def forward(self, x):\n",
    "        x = x + self.attn(self.norm1(x))\n",
    "        x = x + self.mlp(self.norm2(x))\n",
    "        return x\n",
    "\n",
    "class VisionTransformer(nn.Module):\n",
    "    def __init__(self, img_size=32, patch_size=4, in_channels=3, num_classes=10, dim=64, depth=6, heads=8, mlp_dim=128, dropout=0.1, second_path_size = None, print_w=False):\n",
    "        super(VisionTransformer, self).__init__()\n",
    "        self.patch_embed = PatchEmbedding(img_size, patch_size, in_channels, dim, second_path_size)\n",
    "        self.cls_token1 = nn.Parameter(torch.randn(1, 1, dim))\n",
    "        self.cls_token2 = nn.Parameter(torch.randn(1, 1, dim))\n",
    "        self.positional_encoding = nn.Parameter(torch.randn(1, (2 * (img_size // patch_size) ** 2) + 2, dim))\n",
    "        self.transformer = nn.ModuleList([\n",
    "            TransformerBlock(dim, heads, mlp_dim, dropout, print_w=print_w)\n",
    "            for _ in range(depth)\n",
    "        ])\n",
    "        self.mlp_head = nn.Sequential(\n",
    "            nn.LayerNorm(2*dim),\n",
    "            nn.Linear(2*dim, num_classes)\n",
    "        )\n",
    "\n",
    "    def forward(self, x):\n",
    "        B = x.shape[0]\n",
    "        x = self.patch_embed(x)\n",
    "        cls_tokens1 = self.cls_token1.expand(B, -1, -1)\n",
    "        cls_tokens2 = self.cls_token2.expand(B, -1, -1)\n",
    "        middle_idx = x.shape[1] // 2\n",
    "        x = torch.cat((cls_tokens1, x[:, :middle_idx], cls_tokens2, x[:, middle_idx:]), dim=1)\n",
    "        x += self.positional_encoding\n",
    "\n",
    "        for block in self.transformer:\n",
    "            x = block(x)\n",
    "\n",
    "        cls_output1 = x[:, 0]\n",
    "        cls_output2 = x[:, middle_idx + 1]\n",
    "        combined_cls_output = torch.cat((cls_output1, cls_output2), dim=1)\n",
    "        return self.mlp_head(combined_cls_output)\n"
   ]
  },
  {
   "cell_type": "code",
   "execution_count": 2,
   "id": "84b55e2a",
   "metadata": {},
   "outputs": [],
   "source": [
    "model = VisionTransformer()"
   ]
  },
  {
   "cell_type": "code",
   "execution_count": 3,
   "id": "715b2123",
   "metadata": {},
   "outputs": [
    {
     "name": "stdout",
     "output_type": "stream",
     "text": [
      "Dataset: CIFAR-10\n",
      "Number of classes: 10\n",
      "Class names: ['airplane', 'automobile', 'bird', 'cat', 'deer', 'dog', 'frog', 'horse', 'ship', 'truck']\n",
      "Train set size: 50000\n",
      "Test set size: 10000\n",
      "torch.Size([1, 3, 32, 32]) tensor([6])\n"
     ]
    }
   ],
   "source": [
    "import sys\n",
    "sys.path.append('..')\n",
    "\n",
    "import torch\n",
    "import matplotlib.pyplot as plt\n",
    "from Utils.cifar10_loaders import get_cifar10_dataloaders\n",
    "\n",
    "train_loader, test_loader = get_cifar10_dataloaders(image_size=32, batch_size=1)\n",
    "\n",
    "train_dataset = train_loader.dataset\n",
    "test_dataset = test_loader.dataset\n",
    "\n",
    "classes = train_dataset.dataset.classes if hasattr(train_dataset, 'dataset') else train_dataset.classes\n",
    "num_classes = len(classes)\n",
    "\n",
    "print(\"Dataset: CIFAR-10\")\n",
    "print(f\"Number of classes: {num_classes}\")\n",
    "print(f\"Class names: {classes}\")\n",
    "print(f\"Train set size: {len(train_dataset)}\")\n",
    "print(f\"Test set size: {len(test_dataset)}\")\n",
    "\n",
    "for i in range(5000):\n",
    "   images, labels = next(iter(train_loader))\n",
    "#image, label = train_loader[40094]\n",
    "\n",
    "print(images.shape,labels)"
   ]
  },
  {
   "cell_type": "code",
   "execution_count": 4,
   "id": "359c4b60",
   "metadata": {},
   "outputs": [
    {
     "name": "stdout",
     "output_type": "stream",
     "text": [
      "<All keys matched successfully>\n"
     ]
    }
   ],
   "source": [
    "import os\n",
    "# TEST_ID = \n",
    "# epoch = \n",
    "# weights_path = os.path.join('../results',TEST_ID, 'model_stats', f'Model_epoch_{epoch}.pth')\n",
    "print(model.load_state_dict(torch.load('Model_epoch_195.pth')))"
   ]
  },
  {
   "cell_type": "code",
   "execution_count": 55,
   "id": "45138cc2",
   "metadata": {},
   "outputs": [],
   "source": [
    "import torchvision\n",
    "a = torchvision.io.read_image('plane.png')\n",
    "a = a.float() / 255.0   "
   ]
  },
  {
   "cell_type": "code",
   "execution_count": 56,
   "id": "7411f426",
   "metadata": {},
   "outputs": [
    {
     "data": {
      "text/plain": [
       "torch.Size([1, 3, 32, 32])"
      ]
     },
     "execution_count": 56,
     "metadata": {},
     "output_type": "execute_result"
    }
   ],
   "source": [
    "a = a.unsqueeze(0)\n",
    "a.shape"
   ]
  },
  {
   "cell_type": "code",
   "execution_count": 57,
   "id": "9a03cf27",
   "metadata": {},
   "outputs": [
    {
     "data": {
      "image/png": "[encoded data removed]",
      "text/plain": [
       "<Figure size 1500x600 with 1 Axes>"
      ]
     },
     "metadata": {},
     "output_type": "display_data"
    },
    {
     "data": {
      "image/png": "[encoded data removed]",
      "text/plain": [
       "<Figure size 1500x600 with 1 Axes>"
      ]
     },
     "metadata": {},
     "output_type": "display_data"
    },
    {
     "data": {
      "text/plain": [
       "tensor([[ 2.3017, -8.5368,  1.3504,  2.2782,  5.0099, -0.3721, -4.2033, -9.0479,\n",
       "          2.9275, -0.9320]], grad_fn=<AddmmBackward0>)"
      ]
     },
     "execution_count": 57,
     "metadata": {},
     "output_type": "execute_result"
    }
   ],
   "source": [
    "model(a)"
   ]
  }
 ],
 "metadata": {
  "kernelspec": {
   "display_name": "cyce2",
   "language": "python",
   "name": "python3"
  },
  "language_info": {
   "codemirror_mode": {
    "name": "ipython",
    "version": 3
   },
   "file_extension": ".py",
   "mimetype": "text/x-python",
   "name": "python",
   "nbconvert_exporter": "python",
   "pygments_lexer": "ipython3",
   "version": "3.9.16"
  }
 },
 "nbformat": 4,
 "nbformat_minor": 5
}
