{
 "cells": [
  {
   "cell_type": "markdown",
   "metadata": {},
   "source": [
    "# Load The Model"
   ]
  },
  {
   "cell_type": "code",
   "execution_count": 1,
   "metadata": {},
   "outputs": [],
   "source": [
    "import sys\n",
    "sys.path.append('..')\n",
    "import subprocess"
   ]
  },
  {
   "cell_type": "markdown",
   "metadata": {},
   "source": [
    "# Specify The  TEST IDs"
   ]
  },
  {
   "cell_type": "code",
   "execution_count": null,
   "metadata": {},
   "outputs": [],
   "source": [
    "# test_ids_base = [37,40,43,46]\n",
    "# test_ids_2n2n = [38,41,44,47]\n",
    "# test_ids_ours = [39,42,45,48]\n",
    "test_ids_ours = [24]\n",
    "\n",
    "path = '../results/'\n",
    "# test_ids_base = [f\"{path}TEMP_ID{id:03d}\" for id in test_ids_base]\n",
    "# test_ids_2n2n = [f\"{path}TEMP_ID{id:03d}\" for id in test_ids_2n2n]\n",
    "test_ids_ours = [f\"{path}TEST_FINAL_V2_ID{id:03d}\" for id in test_ids_ours]"
   ]
  },
  {
   "cell_type": "markdown",
   "metadata": {},
   "source": [
    "# Find The Best Train And Test Accuracy (top1 | top5)"
   ]
  },
  {
   "cell_type": "code",
   "execution_count": 20,
   "metadata": {},
   "outputs": [
    {
     "name": "stdout",
     "output_type": "stream",
     "text": [
      "{'../results/TEMP_ID037': {'dataset': 'cifar10', 'train': {'top1': {'accuracy': 0.42272499203681946, 'epoch': 199}, 'top5': {'accuracy': 0.9073999524116516, 'epoch': 183}}, 'test': {'top1': {'accuracy': 0.42544999718666077, 'epoch': 195}, 'top5': {'accuracy': 0.908549964427948, 'epoch': 180}}}, '../results/TEMP_ID040': {'dataset': 'cifar100', 'train': {'top1': {'accuracy': 0.19522500038146973, 'epoch': 193}, 'top5': {'accuracy': 0.4743749797344208, 'epoch': 194}}, 'test': {'top1': {'accuracy': 0.1934499889612198, 'epoch': 200}, 'top5': {'accuracy': 0.4632999897003174, 'epoch': 200}}}, '../results/TEMP_ID043': {'dataset': 'mnist', 'train': {'top1': {'accuracy': 0.8661249876022339, 'epoch': 194}, 'top5': {'accuracy': 0.997249960899353, 'epoch': 184}}, 'test': {'top1': {'accuracy': 0.8796666860580444, 'epoch': 180}, 'top5': {'accuracy': 0.9973666667938232, 'epoch': 155}}}, '../results/TEMP_ID046': {'dataset': 'tinyimagenet', 'train': {'top1': {'accuracy': 0.10178999602794647, 'epoch': 191}, 'top5': {'accuracy': 0.27379998564720154, 'epoch': 198}}, 'test': {'top1': {'accuracy': 0.09389999508857727, 'epoch': 190}, 'top5': {'accuracy': 0.2514999806880951, 'epoch': 200}}}}\n",
      "{'../results/TEMP_ID038': {'dataset': 'cifar10', 'train': {'top1': {'accuracy': 0.4953499734401703, 'epoch': 199}, 'top5': {'accuracy': 0.9368249773979187, 'epoch': 195}}, 'test': {'top1': {'accuracy': 0.49764999747276306, 'epoch': 190}, 'top5': {'accuracy': 0.9372999668121338, 'epoch': 190}}}, '../results/TEMP_ID041': {'dataset': 'cifar100', 'train': {'top1': {'accuracy': 0.2531749904155731, 'epoch': 199}, 'top5': {'accuracy': 0.5579749941825867, 'epoch': 200}}, 'test': {'top1': {'accuracy': 0.24039998650550842, 'epoch': 195}, 'top5': {'accuracy': 0.5349000096321106, 'epoch': 200}}}, '../results/TEMP_ID044': {'dataset': 'mnist', 'train': {'top1': {'accuracy': 0.9138249754905701, 'epoch': 195}, 'top5': {'accuracy': 0.9988749623298645, 'epoch': 189}}, 'test': {'top1': {'accuracy': 0.9233999848365784, 'epoch': 185}, 'top5': {'accuracy': 0.9991666674613953, 'epoch': 165}}}, '../results/TEMP_ID047': {'dataset': 'tinyimagenet', 'train': {'top1': {'accuracy': 0.15136998891830444, 'epoch': 198}, 'top5': {'accuracy': 0.36281999945640564, 'epoch': 198}}, 'test': {'top1': {'accuracy': 0.13689999282360077, 'epoch': 195}, 'top5': {'accuracy': 0.3333999812602997, 'epoch': 195}}}}\n",
      "{'../results/TEMP_ID039': {'dataset': 'cifar10', 'train': {'top1': {'accuracy': 0.9283999800682068, 'epoch': 198}, 'top5': {'accuracy': 0.9996749758720398, 'epoch': 196}}, 'test': {'top1': {'accuracy': 0.835349977016449, 'epoch': 160}, 'top5': {'accuracy': 0.9912999868392944, 'epoch': 70}}}, '../results/TEMP_ID042': {'dataset': 'cifar100', 'train': {'top1': {'accuracy': 0.8060500025749207, 'epoch': 199}, 'top5': {'accuracy': 0.9796499609947205, 'epoch': 196}}, 'test': {'top1': {'accuracy': 0.6186000108718872, 'epoch': 185}, 'top5': {'accuracy': 0.8388499617576599, 'epoch': 150}}}, '../results/TEMP_ID045': {'dataset': 'mnist', 'train': {'top1': {'accuracy': 0.9936249852180481, 'epoch': 197}, 'top5': {'accuracy': 1.0, 'epoch': 60}}, 'test': {'top1': {'accuracy': 0.9917666912078857, 'epoch': 185}, 'top5': {'accuracy': 1.0, 'epoch': 105}}}, '../results/TEMP_ID048': {'dataset': 'tinyimagenet', 'train': {'top1': {'accuracy': 0.5087499618530273, 'epoch': 193}, 'top5': {'accuracy': 0.7857300043106079, 'epoch': 199}}, 'test': {'top1': {'accuracy': 0.3450999855995178, 'epoch': 70}, 'top5': {'accuracy': 0.5983999967575073, 'epoch': 95}}}}\n"
     ]
    }
   ],
   "source": [
    "import os\n",
    "\n",
    "def process_test_ids(test_ids):\n",
    "    results = {}\n",
    "\n",
    "    for test_id in test_ids:\n",
    "        results[test_id] = {\n",
    "            \"dataset\": None,\n",
    "            \"train\": {\"top1\": {\"accuracy\": None, \"epoch\": None}, \"top5\": {\"accuracy\": None, \"epoch\": None}},\n",
    "            \"test\": {\"top1\": {\"accuracy\": None, \"epoch\": None}, \"top5\": {\"accuracy\": None, \"epoch\": None}}\n",
    "        }\n",
    "\n",
    "        model_stats_path = os.path.join(test_id, \"model_stats\")\n",
    "        accuracy_stats_path = os.path.join(test_id, \"accuracy_stats\")\n",
    "\n",
    "        model_info_file = os.path.join(model_stats_path, \"model_info.txt\")\n",
    "        with open(model_info_file, \"r\") as f:\n",
    "            for line in f:\n",
    "                if \"dataset is\" in line:\n",
    "                    results[test_id][\"dataset\"] = line.split(\"dataset is \")[1].strip()\n",
    "                    break\n",
    "\n",
    "        train_file = os.path.join(accuracy_stats_path, \"report_train.txt\")\n",
    "        test_file = os.path.join(accuracy_stats_path, \"report_val.txt\")\n",
    "\n",
    "        def find_best_accuracies(file_path):\n",
    "            best_top1 = {\"accuracy\": 0, \"epoch\": 0}\n",
    "            best_top5 = {\"accuracy\": 0, \"epoch\": 0}\n",
    "\n",
    "            with open(file_path, \"r\") as f:\n",
    "                for line in f:\n",
    "                    if \"epoch\" in line:\n",
    "                        epoch = int(line.split(\"epoch \")[1].split(\":\")[0])\n",
    "                        top1 = float(line.split(\"top1%=\")[1].split(\",\")[0])\n",
    "                        top5 = float(line.split(\"top5%=\")[1].split(\",\")[0])\n",
    "\n",
    "                        if top1 > best_top1[\"accuracy\"]:\n",
    "                            best_top1[\"accuracy\"] = top1\n",
    "                            best_top1[\"epoch\"] = epoch\n",
    "                        if top5 > best_top5[\"accuracy\"]:\n",
    "                            best_top5[\"accuracy\"] = top5\n",
    "                            best_top5[\"epoch\"] = epoch\n",
    "\n",
    "            return best_top1, best_top5\n",
    "\n",
    "        best_train_top1, best_train_top5 = find_best_accuracies(train_file)\n",
    "        results[test_id][\"train\"][\"top1\"] = best_train_top1\n",
    "        results[test_id][\"train\"][\"top5\"] = best_train_top5\n",
    "\n",
    "        best_test_top1, best_test_top5 = find_best_accuracies(test_file)\n",
    "        results[test_id][\"test\"][\"top1\"] = best_test_top1\n",
    "        results[test_id][\"test\"][\"top5\"] = best_test_top5\n",
    "\n",
    "    return results\n",
    "\n",
    "\n",
    "results_base = process_test_ids(test_ids_base)\n",
    "results_2n2n = process_test_ids(test_ids_2n2n)\n",
    "results_ours = process_test_ids(test_ids_ours)\n",
    "\n",
    "print(results_base)\n",
    "print(results_2n2n)\n",
    "print(results_ours)"
   ]
  },
  {
   "cell_type": "markdown",
   "metadata": {},
   "source": [
    "# Print the Ws"
   ]
  },
  {
   "cell_type": "code",
   "execution_count": 21,
   "metadata": {},
   "outputs": [
    {
     "name": "stdout",
     "output_type": "stream",
     "text": [
      "Command output (stdout):\n",
      "Device is set to : cuda\n",
      "No seed is set!\n",
      "<All keys matched successfully>\n",
      "tensor([0., 0., 0., 1.], device='cuda:0')\n",
      "tensor([0., 0., 1., 0.], device='cuda:0')\n",
      "tensor([1., 0., 0., 0.], device='cuda:0')\n",
      "tensor([1., 0., 0., 0.], device='cuda:0')\n",
      "tensor([0., 0., 1., 0.], device='cuda:0')\n",
      "tensor([1., 0., 0., 0.], device='cuda:0')\n",
      "\n",
      "Command 'python  ../TESTS/TEST_glvit_v7_val.py    --TEST_ID TEMP_ID039    --dataset cifar10   --batch_size 32 --n_epoch 200 --image_size 32 --train_size 40000  --patch_size 4  --num_classes 10    --dim 64    --depth 6   --heads 8   --mlp_dim 128   --debug True' executed successfully.\n"
     ]
    }
   ],
   "source": [
    "command = \"python  ../TESTS/TEST_glvit_v7_val.py    --TEST_ID TEMP_ID039    --dataset cifar10   --batch_size 32 --n_epoch 200 --image_size 32 --train_size 40000  --patch_size 4  --num_classes 10    --dim 64    --depth 6   --heads 8   --mlp_dim 128   --debug True\"\n",
    "\n",
    "\n",
    "try:\n",
    "    result = subprocess.run(command, shell=True, check=True, capture_output=True, text=True)\n",
    "    \n",
    "    print(\"Command output (stdout):\")\n",
    "    print(result.stdout)\n",
    "    \n",
    "    if result.stderr:\n",
    "        print(\"Command errors (stderr):\")\n",
    "        print(result.stderr)\n",
    "    \n",
    "    print(f\"Command '{command}' executed successfully.\")\n",
    "except subprocess.CalledProcessError as e:\n",
    "    print(f\"Command '{command}' failed with error: {e}\")\n",
    "    if e.stdout:\n",
    "        print(\"Command output (stdout):\")\n",
    "        print(e.stdout.decode())\n",
    "    if e.stderr:\n",
    "        print(\"Command errors (stderr):\")\n",
    "        print(e.stderr.decode())\n",
    "except Exception as e:\n",
    "    print(f\"An unexpected error occurred: {e}\")"
   ]
  },
  {
   "cell_type": "code",
   "execution_count": 22,
   "metadata": {},
   "outputs": [
    {
     "name": "stdout",
     "output_type": "stream",
     "text": [
      "Command output (stdout):\n",
      "Device is set to : cuda\n",
      "No seed is set!\n",
      "<All keys matched successfully>\n",
      "tensor([0., 1., 0., 0.], device='cuda:0')\n",
      "tensor([0., 0., 1., 0.], device='cuda:0')\n",
      "tensor([0., 0., 0., 1.], device='cuda:0')\n",
      "tensor([0., 0., 1., 0.], device='cuda:0')\n",
      "tensor([0., 0., 0., 1.], device='cuda:0')\n",
      "tensor([1., 0., 0., 0.], device='cuda:0')\n",
      "\n",
      "Command 'python  ../TESTS/TEST_glvit_v7_val.py    --TEST_ID TEMP_ID042    --dataset cifar100   --batch_size 32 --n_epoch 200 --image_size 32 --train_size 40000  --patch_size 4  --num_classes 100    --dim 64    --depth 6   --heads 8   --mlp_dim 128   --debug True' executed successfully.\n"
     ]
    }
   ],
   "source": [
    "command = \"python  ../TESTS/TEST_glvit_v7_val.py    --TEST_ID TEMP_ID042    --dataset cifar100   --batch_size 32 --n_epoch 200 --image_size 32 --train_size 40000  --patch_size 4  --num_classes 100    --dim 64    --depth 6   --heads 8   --mlp_dim 128   --debug True\"\n",
    "\n",
    "try:\n",
    "    result = subprocess.run(command, shell=True, check=True, capture_output=True, text=True)\n",
    "    \n",
    "    print(\"Command output (stdout):\")\n",
    "    print(result.stdout)\n",
    "    \n",
    "    if result.stderr:\n",
    "        print(\"Command errors (stderr):\")\n",
    "        print(result.stderr)\n",
    "    \n",
    "    print(f\"Command '{command}' executed successfully.\")\n",
    "except subprocess.CalledProcessError as e:\n",
    "    print(f\"Command '{command}' failed with error: {e}\")\n",
    "    if e.stdout:\n",
    "        print(\"Command output (stdout):\")\n",
    "        print(e.stdout.decode())\n",
    "    if e.stderr:\n",
    "        print(\"Command errors (stderr):\")\n",
    "        print(e.stderr.decode())\n",
    "except Exception as e:\n",
    "    print(f\"An unexpected error occurred: {e}\")"
   ]
  },
  {
   "cell_type": "code",
   "execution_count": 23,
   "metadata": {},
   "outputs": [
    {
     "name": "stdout",
     "output_type": "stream",
     "text": [
      "Command output (stdout):\n",
      "Device is set to : cuda\n",
      "No seed is set!\n",
      "<All keys matched successfully>\n",
      "tensor([0., 1., 0., 0.], device='cuda:0')\n",
      "tensor([1., 0., 0., 0.], device='cuda:0')\n",
      "tensor([0., 0., 0., 1.], device='cuda:0')\n",
      "tensor([0., 0., 0., 1.], device='cuda:0')\n",
      "tensor([0., 0., 1., 0.], device='cuda:0')\n",
      "tensor([0., 1., 0., 0.], device='cuda:0')\n",
      "\n",
      "Command 'python  ../TESTS/TEST_glvit_v7_val.py    --TEST_ID TEMP_ID045    --dataset mnist   --batch_size 32 --n_epoch 200 --image_size 32 --train_size 40000  --patch_size 4  --num_classes 10    --dim 64    --depth 6   --heads 8   --mlp_dim 128   --debug True' executed successfully.\n"
     ]
    }
   ],
   "source": [
    "command = \"python  ../TESTS/TEST_glvit_v7_val.py    --TEST_ID TEMP_ID045    --dataset mnist   --batch_size 32 --n_epoch 200 --image_size 32 --train_size 40000  --patch_size 4  --num_classes 10    --dim 64    --depth 6   --heads 8   --mlp_dim 128   --debug True\"\n",
    "\n",
    "try:\n",
    "    result = subprocess.run(command, shell=True, check=True, capture_output=True, text=True)\n",
    "    \n",
    "    print(\"Command output (stdout):\")\n",
    "    print(result.stdout)\n",
    "    \n",
    "    if result.stderr:\n",
    "        print(\"Command errors (stderr):\")\n",
    "        print(result.stderr)\n",
    "    \n",
    "    print(f\"Command '{command}' executed successfully.\")\n",
    "except subprocess.CalledProcessError as e:\n",
    "    print(f\"Command '{command}' failed with error: {e}\")\n",
    "    if e.stdout:\n",
    "        print(\"Command output (stdout):\")\n",
    "        print(e.stdout.decode())\n",
    "    if e.stderr:\n",
    "        print(\"Command errors (stderr):\")\n",
    "        print(e.stderr.decode())\n",
    "except Exception as e:\n",
    "    print(f\"An unexpected error occurred: {e}\")"
   ]
  },
  {
   "cell_type": "code",
   "execution_count": 24,
   "metadata": {},
   "outputs": [
    {
     "name": "stdout",
     "output_type": "stream",
     "text": [
      "Command output (stdout):\n",
      "Device is set to : cuda\n",
      "No seed is set!\n",
      "<All keys matched successfully>\n",
      "tensor([0., 0., 1., 0.], device='cuda:0')\n",
      "tensor([0., 0., 0., 1.], device='cuda:0')\n",
      "tensor([0., 0., 0., 1.], device='cuda:0')\n",
      "tensor([0., 0., 0., 1.], device='cuda:0')\n",
      "tensor([0., 1., 0., 0.], device='cuda:0')\n",
      "tensor([0., 0., 0., 1.], device='cuda:0')\n",
      "\n",
      "Command 'python  ../TESTS/TEST_glvit_v7_val.py    --TEST_ID TEMP_ID048    --dataset tinyimagenet   --batch_size 64 --n_epoch 200 --image_size 32 --train_size 70000  --patch_size 4  --num_classes 200    --dim 64    --depth 6   --heads 8   --mlp_dim 128   --debug True' executed successfully.\n"
     ]
    }
   ],
   "source": [
    "command = \"python  ../TESTS/TEST_glvit_v7_val.py    --TEST_ID TEMP_ID048    --dataset tinyimagenet   --batch_size 64 --n_epoch 200 --image_size 32 --train_size 70000  --patch_size 4  --num_classes 200    --dim 64    --depth 6   --heads 8   --mlp_dim 128   --debug True\"\n",
    "\n",
    "try:\n",
    "    result = subprocess.run(command, shell=True, check=True, capture_output=True, text=True)\n",
    "    \n",
    "    print(\"Command output (stdout):\")\n",
    "    print(result.stdout)\n",
    "    \n",
    "    if result.stderr:\n",
    "        print(\"Command errors (stderr):\")\n",
    "        print(result.stderr)\n",
    "    \n",
    "    print(f\"Command '{command}' executed successfully.\")\n",
    "except subprocess.CalledProcessError as e:\n",
    "    print(f\"Command '{command}' failed with error: {e}\")\n",
    "    if e.stdout:\n",
    "        print(\"Command output (stdout):\")\n",
    "        print(e.stdout.decode())\n",
    "    if e.stderr:\n",
    "        print(\"Command errors (stderr):\")\n",
    "        print(e.stderr.decode())\n",
    "except Exception as e:\n",
    "    print(f\"An unexpected error occurred: {e}\")"
   ]
  }
 ],
 "metadata": {
  "kernelspec": {
   "display_name": "tensor",
   "language": "python",
   "name": "python3"
  },
  "language_info": {
   "codemirror_mode": {
    "name": "ipython",
    "version": 3
   },
   "file_extension": ".py",
   "mimetype": "text/x-python",
   "name": "python",
   "nbconvert_exporter": "python",
   "pygments_lexer": "ipython3",
   "version": "3.11.5"
  }
 },
 "nbformat": 4,
 "nbformat_minor": 2
}
